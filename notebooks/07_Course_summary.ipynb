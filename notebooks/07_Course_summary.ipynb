{
 "cells": [
  {
   "cell_type": "markdown",
   "metadata": {},
   "source": [
    "# Couse Summary\n",
    "\n",
    "This is a summary of the concepts covered in the course. It is thought to help you catching up in case you missed parts of the course, and to help you preparing for the exam. \n",
    "\n",
    "**Disclaimer**: We collect this list with the best of knowledge and intent, but we take no warranty for covering all the concepts that might come up in the exam. \n",
    "\n",
    "**Note**: The links provide material to practice. We do not expect that you know everything from the links, we only care about the concepts. The datacamp links you can open only when you are signed-in on datacamp."
   ]
  },
  {
   "cell_type": "markdown",
   "metadata": {},
   "source": [
    "## Week 1\n",
    "- know the basics of using a unix terminal\n",
    "- concepts covered in the intro to python course linked below\n",
    "\n",
    "### Links\n",
    "- https://www.datacamp.com/courses/introduction-to-shell-for-data-science (only chapters 1 and 2)\n",
    "- https://learn.datacamp.com/courses/intro-to-python-for-data-science"
   ]
  },
  {
   "cell_type": "markdown",
   "metadata": {},
   "source": [
    "## Week 2\n",
    "- intermediate python concepts as covered in the course linked below\n",
    "- know the numpy functionality covered as part of the exercises in the notebook on intermediate python\n",
    "- be able to explain utility of version control\n",
    "- basics of git as covered in the course linked below\n",
    "\n",
    "### Links\n",
    "- https://learn.datacamp.com/courses/intermediate-python\n",
    "- https://learn.datacamp.com/courses/introduction-to-git"
   ]
  },
  {
   "cell_type": "markdown",
   "metadata": {},
   "source": [
    "## Week 3\n",
    "- setting up your favorite programming working environment: terminal, scripts, editor, jupyter notebook.\n",
    "- GitHub fork, \n",
    "- creating a fork of a public repository and connection it to your local repository\n",
    "- Python functions\n",
    "\n",
    "### Links\n",
    "- https://docs.github.com/en/free-pro-team@latest/github/getting-started-with-github/fork-a-repo\n",
    "- https://learn.datacamp.com/courses/python-data-science-toolbox-part-1"
   ]
  },
  {
   "cell_type": "markdown",
   "metadata": {},
   "source": [
    "## Week 4\n",
    "\n",
    "- GitHub Pull Request\n",
    "- Pull request workflow\n",
    "- `enumerate`, `zip`\n",
    "- List comprehesion\n",
    "- **Your project**\n",
    "\n",
    "### Links to practice\n",
    "- https://docs.github.com/en/free-pro-team@latest/github/collaborating-with-issues-and-pull-requests/about-pull-requests\n",
    "- https://docs.github.com/en/free-pro-team@latest/github/collaborating-with-issues-and-pull-requests/creating-a-pull-request-from-a-fork\n",
    "- https://learn.datacamp.com/courses/python-data-science-toolbox-part-2"
   ]
  }
 ],
 "metadata": {
  "kernelspec": {
   "display_name": "Python 3",
   "language": "python",
   "name": "python3"
  },
  "language_info": {
   "codemirror_mode": {
    "name": "ipython",
    "version": 3
   },
   "file_extension": ".py",
   "mimetype": "text/x-python",
   "name": "python",
   "nbconvert_exporter": "python",
   "pygments_lexer": "ipython3",
   "version": "3.7.4"
  }
 },
 "nbformat": 4,
 "nbformat_minor": 4
}
