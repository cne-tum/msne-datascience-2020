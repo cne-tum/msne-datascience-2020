{
 "cells": [
  {
   "cell_type": "markdown",
   "metadata": {},
   "source": [
    "# FinalSession\n",
    "\n",
    "In the last two sessions of the course we mostly worked on your questions about the projects. Additionally, we gave input on two topics:\n",
    "\n",
    "1) GitHub pull requests\n",
    "\n",
    "2) Python List comprehension, Iterators, Generators\n",
    "\n",
    "In the following you find a very short overview on the topics and links to the actual material."
   ]
  },
  {
   "cell_type": "markdown",
   "metadata": {},
   "source": [
    "## GitHub pull requests\n",
    "\n",
    "Pull request are extensively used in collaborative programming via GitHub. \n",
    "\n",
    "A common workflow is the following. A programmer working on a community project like, e.g., [numpy](https://github.com/numpy/numpy), comes up with a new feature and implements the feature on her local machine. For that she will create a [fork](https://docs.github.com/en/free-pro-team@latest/github/getting-started-with-github/fork-a-repo) of `numpy` and connect the fork to her local `numpy` repository. Then she will commit away, and once finished with the feature, push to her fork. \n",
    "\n",
    "She pushes to the fork (and not to the original repository) in order not to break anything in the main `numpy` repository. Before her new feature will be included in the main code of `numpy` the community has to check it. This is what the pull request is for.\n",
    "\n",
    "The pull request is the programmers request to the community to check the code she wants to include in the main project. \n",
    "\n",
    "We asked you to do your own pull request with your projects: \n",
    "- create a fork of teaching material in the original repository.\n",
    "- commit locally and push to the fork.\n",
    "- make a pull request to the origin repository.\n",
    "\n",
    "### Links\n",
    "- Pull requests: [https://docs.github.com/en/free-pro-team@latest/github/collaborating-with-issues-and-pull-requests/about-pull-requests](https://docs.github.com/en/free-pro-team@latest/github/collaborating-with-issues-and-pull-requests/about-pull-requests)\n",
    "- Forks: [https://docs.github.com/en/free-pro-team@latest/github/collaborating-with-issues-and-pull-requests/creating-a-pull-request-from-a-fork](https://docs.github.com/en/free-pro-team@latest/github/collaborating-with-issues-and-pull-requests/creating-a-pull-request-from-a-fork)\n"
   ]
  },
  {
   "cell_type": "markdown",
   "metadata": {},
   "source": [
    "## List comprehensions\n",
    "\n",
    "A list comprehesion is a quick way of writing a `for-loop`. \n",
    "\n",
    "Also, there are built-in functions in Python that are handy when iterating over different data structures, e.g., `enumerate`, `zip` or `unzip`. \n",
    "\n",
    "There is another datacamp course going through all the details: https://learn.datacamp.com/courses/python-data-science-toolbox-part-2"
   ]
  },
  {
   "cell_type": "code",
   "execution_count": 1,
   "metadata": {},
   "outputs": [
    {
     "data": {
      "text/plain": [
       "[0, 1, 2]"
      ]
     },
     "execution_count": 1,
     "metadata": {},
     "output_type": "execute_result"
    }
   ],
   "source": [
    "# Using a for loop to define a list\n",
    "l = []\n",
    "for i in range(3):\n",
    "    l.append(i)\n",
    "l"
   ]
  },
  {
   "cell_type": "code",
   "execution_count": 2,
   "metadata": {},
   "outputs": [
    {
     "data": {
      "text/plain": [
       "[0, 1, 2]"
      ]
     },
     "execution_count": 2,
     "metadata": {},
     "output_type": "execute_result"
    }
   ],
   "source": [
    "# Using a list comprehesion\n",
    "l = [i for i in range(3)]\n",
    "l"
   ]
  },
  {
   "cell_type": "code",
   "execution_count": 3,
   "metadata": {},
   "outputs": [
    {
     "data": {
      "text/plain": [
       "[(0, 0), (0, 1), (0, 2), (1, 0), (1, 1), (1, 2), (2, 0), (2, 1), (2, 2)]"
      ]
     },
     "execution_count": 3,
     "metadata": {},
     "output_type": "execute_result"
    }
   ],
   "source": [
    "# Using a nested list comprehesion\n",
    "l = [(i, j) for i in range(3) for j in range(3)]\n",
    "l"
   ]
  },
  {
   "cell_type": "code",
   "execution_count": 4,
   "metadata": {},
   "outputs": [
    {
     "data": {
      "text/plain": [
       "['same',\n",
       " 'different',\n",
       " 'different',\n",
       " 'different',\n",
       " 'same',\n",
       " 'different',\n",
       " 'different',\n",
       " 'different',\n",
       " 'same']"
      ]
     },
     "execution_count": 4,
     "metadata": {},
     "output_type": "execute_result"
    }
   ],
   "source": [
    "# With condition\n",
    "l = [(\"same\" if i==j else \"different\") for i in range(3) for j in range(3)]\n",
    "l"
   ]
  },
  {
   "cell_type": "code",
   "execution_count": null,
   "metadata": {},
   "outputs": [],
   "source": []
  }
 ],
 "metadata": {
  "kernelspec": {
   "display_name": "Python 3",
   "language": "python",
   "name": "python3"
  },
  "language_info": {
   "codemirror_mode": {
    "name": "ipython",
    "version": 3
   },
   "file_extension": ".py",
   "mimetype": "text/x-python",
   "name": "python",
   "nbconvert_exporter": "python",
   "pygments_lexer": "ipython3",
   "version": "3.7.9"
  }
 },
 "nbformat": 4,
 "nbformat_minor": 4
}
