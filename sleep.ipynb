{
 "cells": [
  {
   "cell_type": "code",
   "execution_count": 54,
   "metadata": {},
   "outputs": [],
   "source": [
    "import pandas as pd\n",
    "import numpy as np\n",
    "import matplotlib.pyplot as plt\n",
    "from scipy import signal"
   ]
  },
  {
   "cell_type": "markdown",
   "metadata": {},
   "source": [
    "# Getting Started\n"
   ]
  },
  {
   "cell_type": "markdown",
   "metadata": {},
   "source": [
    "Notes to data: the used dataset consists out of an EEG measurement of mice. It shows 500 Timepoints (each 2 seconds long) and their corresponding power of the frequency from 0-25 Hz.\n",
    "The data is staged with three vigilance states:\n",
    "R = REM sleep //\n",
    "NREM = NREM sleep //\n",
    "W = Wake\n"
   ]
  },
  {
   "cell_type": "markdown",
   "metadata": {},
   "source": [
    "## 1. Read Data"
   ]
  },
  {
   "cell_type": "markdown",
   "metadata": {},
   "source": [
    "## using csv reader"
   ]
  },
  {
   "cell_type": "code",
   "execution_count": 20,
   "metadata": {},
   "outputs": [
    {
     "data": {
      "text/html": [
       "<div>\n",
       "<style scoped>\n",
       "    .dataframe tbody tr th:only-of-type {\n",
       "        vertical-align: middle;\n",
       "    }\n",
       "\n",
       "    .dataframe tbody tr th {\n",
       "        vertical-align: top;\n",
       "    }\n",
       "\n",
       "    .dataframe thead th {\n",
       "        text-align: right;\n",
       "    }\n",
       "</style>\n",
       "<table border=\"1\" class=\"dataframe\">\n",
       "  <thead>\n",
       "    <tr style=\"text-align: right;\">\n",
       "      <th></th>\n",
       "      <th>EpochNo;Stage;;Time;0</th>\n",
       "      <th>000000Hz;0</th>\n",
       "      <th>500000Hz;1</th>\n",
       "      <th>000000Hz;1</th>\n",
       "      <th>500000Hz;2</th>\n",
       "      <th>000000Hz;2</th>\n",
       "      <th>500000Hz;3</th>\n",
       "      <th>000000Hz;3</th>\n",
       "      <th>500000Hz;4</th>\n",
       "      <th>000000Hz;4</th>\n",
       "      <th>...</th>\n",
       "      <th>500000Hz;21</th>\n",
       "      <th>000000Hz;21</th>\n",
       "      <th>500000Hz;22</th>\n",
       "      <th>000000Hz;22</th>\n",
       "      <th>500000Hz;23</th>\n",
       "      <th>000000Hz;23</th>\n",
       "      <th>500000Hz;24</th>\n",
       "      <th>000000Hz;24</th>\n",
       "      <th>500000Hz;25</th>\n",
       "      <th>000000Hz</th>\n",
       "    </tr>\n",
       "  </thead>\n",
       "  <tbody>\n",
       "    <tr>\n",
       "      <th>0</th>\n",
       "      <td>1743;R;R;05.04.19 08:56;3</td>\n",
       "      <td>13E-06;0</td>\n",
       "      <td>000004535;1</td>\n",
       "      <td>32E-05;6</td>\n",
       "      <td>02E-07;1</td>\n",
       "      <td>86E-06;1</td>\n",
       "      <td>63E-05;0</td>\n",
       "      <td>000040165;5</td>\n",
       "      <td>53E-05;2</td>\n",
       "      <td>44E-05;0</td>\n",
       "      <td>...</td>\n",
       "      <td>51E-07;1</td>\n",
       "      <td>12E-06;1</td>\n",
       "      <td>19E-06;9</td>\n",
       "      <td>57E-07;1</td>\n",
       "      <td>70E-06;2</td>\n",
       "      <td>96E-06;4</td>\n",
       "      <td>20E-07;1</td>\n",
       "      <td>43E-06;0</td>\n",
       "      <td>000002384;2</td>\n",
       "      <td>0.000092</td>\n",
       "    </tr>\n",
       "    <tr>\n",
       "      <th>1</th>\n",
       "      <td>1744;R;R;05.04.19 08:56;0</td>\n",
       "      <td>000000702;2</td>\n",
       "      <td>85E-05;0</td>\n",
       "      <td>0001247;0</td>\n",
       "      <td>000272167;0</td>\n",
       "      <td>000194119;0</td>\n",
       "      <td>000138808;0</td>\n",
       "      <td>000192908;0</td>\n",
       "      <td>000182328;3</td>\n",
       "      <td>75E-05;9</td>\n",
       "      <td>...</td>\n",
       "      <td>59E-06;6</td>\n",
       "      <td>02E-08;2</td>\n",
       "      <td>29E-06;4</td>\n",
       "      <td>93E-07;2</td>\n",
       "      <td>16E-06;7</td>\n",
       "      <td>14E-07;2</td>\n",
       "      <td>32E-07;1</td>\n",
       "      <td>94E-06;2</td>\n",
       "      <td>85E-07;8</td>\n",
       "      <td>0.000006</td>\n",
       "    </tr>\n",
       "    <tr>\n",
       "      <th>2</th>\n",
       "      <td>1745;R;R;05.04.19 08:56;7</td>\n",
       "      <td>59E-08;8</td>\n",
       "      <td>10E-06;1</td>\n",
       "      <td>41E-05;7</td>\n",
       "      <td>62E-06;1</td>\n",
       "      <td>28E-05;6</td>\n",
       "      <td>99E-05;8</td>\n",
       "      <td>92E-05;0</td>\n",
       "      <td>000230536;9</td>\n",
       "      <td>03E-05;2</td>\n",
       "      <td>...</td>\n",
       "      <td>09E-06;3</td>\n",
       "      <td>39E-06;2</td>\n",
       "      <td>61E-06;1</td>\n",
       "      <td>48E-07;6</td>\n",
       "      <td>07E-07;1</td>\n",
       "      <td>75E-06;1</td>\n",
       "      <td>76E-06;6</td>\n",
       "      <td>77E-07;0</td>\n",
       "      <td>000001009;2</td>\n",
       "      <td>0.000006</td>\n",
       "    </tr>\n",
       "    <tr>\n",
       "      <th>3</th>\n",
       "      <td>1746;R;R;05.04.19 08:56;4</td>\n",
       "      <td>02E-05;1</td>\n",
       "      <td>58E-05;6</td>\n",
       "      <td>41E-07;8</td>\n",
       "      <td>74E-07;1</td>\n",
       "      <td>58E-05;1</td>\n",
       "      <td>61E-05;2</td>\n",
       "      <td>20E-05;6</td>\n",
       "      <td>01E-05;3</td>\n",
       "      <td>13E-05;3</td>\n",
       "      <td>...</td>\n",
       "      <td>54E-06;6</td>\n",
       "      <td>01E-07;1</td>\n",
       "      <td>60E-06;3</td>\n",
       "      <td>58E-06;1</td>\n",
       "      <td>40E-06;3</td>\n",
       "      <td>99E-06;0</td>\n",
       "      <td>000007427;7</td>\n",
       "      <td>29E-07;1</td>\n",
       "      <td>07E-06;9</td>\n",
       "      <td>0.000072</td>\n",
       "    </tr>\n",
       "    <tr>\n",
       "      <th>4</th>\n",
       "      <td>1747;R;R;05.04.19 08:56;1</td>\n",
       "      <td>89E-08;5</td>\n",
       "      <td>33E-06;2</td>\n",
       "      <td>11E-06;1</td>\n",
       "      <td>59E-05;2</td>\n",
       "      <td>39E-05;8</td>\n",
       "      <td>24E-06;4</td>\n",
       "      <td>98E-05;0</td>\n",
       "      <td>000107375;2</td>\n",
       "      <td>32E-05;5</td>\n",
       "      <td>...</td>\n",
       "      <td>32E-06;7</td>\n",
       "      <td>92E-06;6</td>\n",
       "      <td>61E-06;7</td>\n",
       "      <td>50E-06;9</td>\n",
       "      <td>37E-07;2</td>\n",
       "      <td>77E-07;0</td>\n",
       "      <td>000000752;9</td>\n",
       "      <td>57E-07;9</td>\n",
       "      <td>65E-07;1</td>\n",
       "      <td>0.000043</td>\n",
       "    </tr>\n",
       "  </tbody>\n",
       "</table>\n",
       "<p>5 rows × 52 columns</p>\n",
       "</div>"
      ],
      "text/plain": [
       "       EpochNo;Stage;;Time;0   000000Hz;0   500000Hz;1 000000Hz;1  \\\n",
       "0  1743;R;R;05.04.19 08:56;3     13E-06;0  000004535;1   32E-05;6   \n",
       "1  1744;R;R;05.04.19 08:56;0  000000702;2     85E-05;0  0001247;0   \n",
       "2  1745;R;R;05.04.19 08:56;7     59E-08;8     10E-06;1   41E-05;7   \n",
       "3  1746;R;R;05.04.19 08:56;4     02E-05;1     58E-05;6   41E-07;8   \n",
       "4  1747;R;R;05.04.19 08:56;1     89E-08;5     33E-06;2   11E-06;1   \n",
       "\n",
       "    500000Hz;2   000000Hz;2   500000Hz;3   000000Hz;3   500000Hz;4 000000Hz;4  \\\n",
       "0     02E-07;1     86E-06;1     63E-05;0  000040165;5     53E-05;2   44E-05;0   \n",
       "1  000272167;0  000194119;0  000138808;0  000192908;0  000182328;3   75E-05;9   \n",
       "2     62E-06;1     28E-05;6     99E-05;8     92E-05;0  000230536;9   03E-05;2   \n",
       "3     74E-07;1     58E-05;1     61E-05;2     20E-05;6     01E-05;3   13E-05;3   \n",
       "4     59E-05;2     39E-05;8     24E-06;4     98E-05;0  000107375;2   32E-05;5   \n",
       "\n",
       "   ... 500000Hz;21 000000Hz;21 500000Hz;22 000000Hz;22 500000Hz;23  \\\n",
       "0  ...    51E-07;1    12E-06;1    19E-06;9    57E-07;1    70E-06;2   \n",
       "1  ...    59E-06;6    02E-08;2    29E-06;4    93E-07;2    16E-06;7   \n",
       "2  ...    09E-06;3    39E-06;2    61E-06;1    48E-07;6    07E-07;1   \n",
       "3  ...    54E-06;6    01E-07;1    60E-06;3    58E-06;1    40E-06;3   \n",
       "4  ...    32E-06;7    92E-06;6    61E-06;7    50E-06;9    37E-07;2   \n",
       "\n",
       "  000000Hz;23  500000Hz;24 000000Hz;24  500000Hz;25  000000Hz  \n",
       "0    96E-06;4     20E-07;1    43E-06;0  000002384;2  0.000092  \n",
       "1    14E-07;2     32E-07;1    94E-06;2     85E-07;8  0.000006  \n",
       "2    75E-06;1     76E-06;6    77E-07;0  000001009;2  0.000006  \n",
       "3    99E-06;0  000007427;7    29E-07;1     07E-06;9  0.000072  \n",
       "4    77E-07;0  000000752;9    57E-07;9     65E-07;1  0.000043  \n",
       "\n",
       "[5 rows x 52 columns]"
      ]
     },
     "execution_count": 20,
     "metadata": {},
     "output_type": "execute_result"
    }
   ],
   "source": [
    "df.head()"
   ]
  },
  {
   "cell_type": "markdown",
   "metadata": {},
   "source": [
    "##  -> Reading error: strings instead of floats, wrong columns"
   ]
  },
  {
   "cell_type": "markdown",
   "metadata": {},
   "source": [
    "## Alternative: Excel reader"
   ]
  },
  {
   "cell_type": "code",
   "execution_count": 56,
   "metadata": {},
   "outputs": [
    {
     "name": "stdout",
     "output_type": "stream",
     "text": [
      "Collecting package metadata (current_repodata.json): done\n",
      "Solving environment: done\n",
      "\n",
      "\n",
      "==> WARNING: A newer version of conda exists. <==\n",
      "  current version: 4.8.3\n",
      "  latest version: 4.9.2\n",
      "\n",
      "Please update conda by running\n",
      "\n",
      "    $ conda update -n base -c defaults conda\n",
      "\n",
      "\n",
      "\n",
      "## Package Plan ##\n",
      "\n",
      "  environment location: /Users/ella/opt/anaconda3/envs/sleep\n",
      "\n",
      "  added / updated specs:\n",
      "    - xlrd\n",
      "\n",
      "\n",
      "The following packages will be downloaded:\n",
      "\n",
      "    package                    |            build\n",
      "    ---------------------------|-----------------\n",
      "    certifi-2020.11.8          |   py37hecd8cb5_0         148 KB\n",
      "    xlrd-1.2.0                 |           py37_0         175 KB\n",
      "    ------------------------------------------------------------\n",
      "                                           Total:         322 KB\n",
      "\n",
      "The following NEW packages will be INSTALLED:\n",
      "\n",
      "  xlrd               pkgs/main/osx-64::xlrd-1.2.0-py37_0\n",
      "\n",
      "The following packages will be UPDATED:\n",
      "\n",
      "  certifi            pkgs/main/noarch::certifi-2020.6.20-p~ --> pkgs/main/osx-64::certifi-2020.11.8-py37hecd8cb5_0\n",
      "\n",
      "\n",
      "\n",
      "Downloading and Extracting Packages\n",
      "xlrd-1.2.0           | 175 KB    | ##################################### | 100% \n",
      "certifi-2020.11.8    | 148 KB    | ##################################### | 100% \n",
      "Preparing transaction: done\n",
      "Verifying transaction: done\n",
      "Executing transaction: done\n",
      "\n",
      "Note: you may need to restart the kernel to use updated packages.\n"
     ]
    }
   ],
   "source": [
    "conda install xlrd"
   ]
  },
  {
   "cell_type": "code",
   "execution_count": 212,
   "metadata": {},
   "outputs": [
    {
     "data": {
      "text/html": [
       "<div>\n",
       "<style scoped>\n",
       "    .dataframe tbody tr th:only-of-type {\n",
       "        vertical-align: middle;\n",
       "    }\n",
       "\n",
       "    .dataframe tbody tr th {\n",
       "        vertical-align: top;\n",
       "    }\n",
       "\n",
       "    .dataframe thead th {\n",
       "        text-align: right;\n",
       "    }\n",
       "</style>\n",
       "<table border=\"1\" class=\"dataframe\">\n",
       "  <thead>\n",
       "    <tr style=\"text-align: right;\">\n",
       "      <th></th>\n",
       "      <th>EpochNo</th>\n",
       "      <th>Stage</th>\n",
       "      <th>Stage2</th>\n",
       "      <th>Time</th>\n",
       "      <th>0,000000Hz</th>\n",
       "      <th>0,500000Hz</th>\n",
       "      <th>1,000000Hz</th>\n",
       "      <th>1,500000Hz</th>\n",
       "      <th>2,000000Hz</th>\n",
       "      <th>2,500000Hz</th>\n",
       "      <th>...</th>\n",
       "      <th>20,500000Hz</th>\n",
       "      <th>21,000000Hz</th>\n",
       "      <th>21,500000Hz</th>\n",
       "      <th>22,000000Hz</th>\n",
       "      <th>22,500000Hz</th>\n",
       "      <th>23,000000Hz</th>\n",
       "      <th>23,500000Hz</th>\n",
       "      <th>24,000000Hz</th>\n",
       "      <th>24,500000Hz</th>\n",
       "      <th>25,000000Hz</th>\n",
       "    </tr>\n",
       "  </thead>\n",
       "  <tbody>\n",
       "    <tr>\n",
       "      <th>0</th>\n",
       "      <td>1743</td>\n",
       "      <td>R</td>\n",
       "      <td>R</td>\n",
       "      <td>2019-04-05 08:56:00</td>\n",
       "      <td>3.130000e-06</td>\n",
       "      <td>0.000005</td>\n",
       "      <td>1.320000e-05</td>\n",
       "      <td>6.020000e-07</td>\n",
       "      <td>0.000002</td>\n",
       "      <td>0.000016</td>\n",
       "      <td>...</td>\n",
       "      <td>6.510000e-07</td>\n",
       "      <td>1.120000e-06</td>\n",
       "      <td>0.000001</td>\n",
       "      <td>9.570000e-07</td>\n",
       "      <td>1.700000e-06</td>\n",
       "      <td>2.960000e-06</td>\n",
       "      <td>4.200000e-07</td>\n",
       "      <td>1.430000e-06</td>\n",
       "      <td>2.384000e-06</td>\n",
       "      <td>2.920000e-06</td>\n",
       "    </tr>\n",
       "    <tr>\n",
       "      <th>1</th>\n",
       "      <td>1744</td>\n",
       "      <td>R</td>\n",
       "      <td>R</td>\n",
       "      <td>2019-04-05 08:56:00</td>\n",
       "      <td>7.020000e-07</td>\n",
       "      <td>0.000029</td>\n",
       "      <td>1.247000e-04</td>\n",
       "      <td>2.721670e-04</td>\n",
       "      <td>0.000194</td>\n",
       "      <td>0.000139</td>\n",
       "      <td>...</td>\n",
       "      <td>2.590000e-06</td>\n",
       "      <td>6.020000e-08</td>\n",
       "      <td>0.000002</td>\n",
       "      <td>4.930000e-07</td>\n",
       "      <td>2.160000e-06</td>\n",
       "      <td>7.140000e-07</td>\n",
       "      <td>2.320000e-07</td>\n",
       "      <td>1.940000e-06</td>\n",
       "      <td>2.850000e-07</td>\n",
       "      <td>8.560000e-07</td>\n",
       "    </tr>\n",
       "    <tr>\n",
       "      <th>2</th>\n",
       "      <td>1745</td>\n",
       "      <td>R</td>\n",
       "      <td>R</td>\n",
       "      <td>2019-04-05 08:56:00</td>\n",
       "      <td>7.590000e-08</td>\n",
       "      <td>0.000008</td>\n",
       "      <td>1.410000e-05</td>\n",
       "      <td>7.620000e-06</td>\n",
       "      <td>0.000013</td>\n",
       "      <td>0.000070</td>\n",
       "      <td>...</td>\n",
       "      <td>4.090000e-06</td>\n",
       "      <td>3.390000e-06</td>\n",
       "      <td>0.000003</td>\n",
       "      <td>1.480000e-07</td>\n",
       "      <td>6.070000e-07</td>\n",
       "      <td>1.750000e-06</td>\n",
       "      <td>1.760000e-06</td>\n",
       "      <td>6.770000e-07</td>\n",
       "      <td>1.009000e-06</td>\n",
       "      <td>2.610000e-07</td>\n",
       "    </tr>\n",
       "    <tr>\n",
       "      <th>3</th>\n",
       "      <td>1746</td>\n",
       "      <td>R</td>\n",
       "      <td>R</td>\n",
       "      <td>2019-04-05 08:56:00</td>\n",
       "      <td>4.020000e-05</td>\n",
       "      <td>0.000016</td>\n",
       "      <td>6.410000e-07</td>\n",
       "      <td>8.740000e-07</td>\n",
       "      <td>0.000016</td>\n",
       "      <td>0.000016</td>\n",
       "      <td>...</td>\n",
       "      <td>1.540000e-06</td>\n",
       "      <td>6.010000e-07</td>\n",
       "      <td>0.000002</td>\n",
       "      <td>3.580000e-06</td>\n",
       "      <td>1.400000e-06</td>\n",
       "      <td>3.990000e-06</td>\n",
       "      <td>7.427000e-06</td>\n",
       "      <td>7.290000e-07</td>\n",
       "      <td>1.070000e-06</td>\n",
       "      <td>9.720000e-06</td>\n",
       "    </tr>\n",
       "    <tr>\n",
       "      <th>4</th>\n",
       "      <td>1747</td>\n",
       "      <td>R</td>\n",
       "      <td>R</td>\n",
       "      <td>2019-04-05 08:56:00</td>\n",
       "      <td>1.890000e-08</td>\n",
       "      <td>0.000005</td>\n",
       "      <td>2.110000e-06</td>\n",
       "      <td>1.590000e-05</td>\n",
       "      <td>0.000024</td>\n",
       "      <td>0.000008</td>\n",
       "      <td>...</td>\n",
       "      <td>9.320000e-06</td>\n",
       "      <td>7.920000e-06</td>\n",
       "      <td>0.000007</td>\n",
       "      <td>7.500000e-06</td>\n",
       "      <td>9.370000e-07</td>\n",
       "      <td>2.770000e-07</td>\n",
       "      <td>7.520000e-07</td>\n",
       "      <td>9.570000e-07</td>\n",
       "      <td>9.650000e-07</td>\n",
       "      <td>1.430000e-06</td>\n",
       "    </tr>\n",
       "  </tbody>\n",
       "</table>\n",
       "<p>5 rows × 55 columns</p>\n",
       "</div>"
      ],
      "text/plain": [
       "   EpochNo Stage Stage2                Time    0,000000Hz  0,500000Hz  \\\n",
       "0     1743     R      R 2019-04-05 08:56:00  3.130000e-06    0.000005   \n",
       "1     1744     R      R 2019-04-05 08:56:00  7.020000e-07    0.000029   \n",
       "2     1745     R      R 2019-04-05 08:56:00  7.590000e-08    0.000008   \n",
       "3     1746     R      R 2019-04-05 08:56:00  4.020000e-05    0.000016   \n",
       "4     1747     R      R 2019-04-05 08:56:00  1.890000e-08    0.000005   \n",
       "\n",
       "     1,000000Hz    1,500000Hz  2,000000Hz  2,500000Hz  ...   20,500000Hz  \\\n",
       "0  1.320000e-05  6.020000e-07    0.000002    0.000016  ...  6.510000e-07   \n",
       "1  1.247000e-04  2.721670e-04    0.000194    0.000139  ...  2.590000e-06   \n",
       "2  1.410000e-05  7.620000e-06    0.000013    0.000070  ...  4.090000e-06   \n",
       "3  6.410000e-07  8.740000e-07    0.000016    0.000016  ...  1.540000e-06   \n",
       "4  2.110000e-06  1.590000e-05    0.000024    0.000008  ...  9.320000e-06   \n",
       "\n",
       "    21,000000Hz  21,500000Hz   22,000000Hz   22,500000Hz   23,000000Hz  \\\n",
       "0  1.120000e-06     0.000001  9.570000e-07  1.700000e-06  2.960000e-06   \n",
       "1  6.020000e-08     0.000002  4.930000e-07  2.160000e-06  7.140000e-07   \n",
       "2  3.390000e-06     0.000003  1.480000e-07  6.070000e-07  1.750000e-06   \n",
       "3  6.010000e-07     0.000002  3.580000e-06  1.400000e-06  3.990000e-06   \n",
       "4  7.920000e-06     0.000007  7.500000e-06  9.370000e-07  2.770000e-07   \n",
       "\n",
       "    23,500000Hz   24,000000Hz   24,500000Hz   25,000000Hz  \n",
       "0  4.200000e-07  1.430000e-06  2.384000e-06  2.920000e-06  \n",
       "1  2.320000e-07  1.940000e-06  2.850000e-07  8.560000e-07  \n",
       "2  1.760000e-06  6.770000e-07  1.009000e-06  2.610000e-07  \n",
       "3  7.427000e-06  7.290000e-07  1.070000e-06  9.720000e-06  \n",
       "4  7.520000e-07  9.570000e-07  9.650000e-07  1.430000e-06  \n",
       "\n",
       "[5 rows x 55 columns]"
      ]
     },
     "execution_count": 212,
     "metadata": {},
     "output_type": "execute_result"
    }
   ],
   "source": [
    "df_2= pd.read_excel(\"test EEG.xls\")\n",
    "df_2.head()"
   ]
  },
  {
   "cell_type": "markdown",
   "metadata": {},
   "source": [
    "## -> correct reading of excel file - going ahead with excel-file-reader"
   ]
  },
  {
   "cell_type": "markdown",
   "metadata": {},
   "source": [
    "# 2. From Column to graph\n",
    "## Selecting rows and columns with data, no strings"
   ]
  },
  {
   "cell_type": "code",
   "execution_count": 213,
   "metadata": {},
   "outputs": [
    {
     "data": {
      "text/html": [
       "<div>\n",
       "<style scoped>\n",
       "    .dataframe tbody tr th:only-of-type {\n",
       "        vertical-align: middle;\n",
       "    }\n",
       "\n",
       "    .dataframe tbody tr th {\n",
       "        vertical-align: top;\n",
       "    }\n",
       "\n",
       "    .dataframe thead th {\n",
       "        text-align: right;\n",
       "    }\n",
       "</style>\n",
       "<table border=\"1\" class=\"dataframe\">\n",
       "  <thead>\n",
       "    <tr style=\"text-align: right;\">\n",
       "      <th></th>\n",
       "      <th>0,000000Hz</th>\n",
       "      <th>0,500000Hz</th>\n",
       "      <th>1,000000Hz</th>\n",
       "      <th>1,500000Hz</th>\n",
       "      <th>2,000000Hz</th>\n",
       "      <th>2,500000Hz</th>\n",
       "      <th>3,000000Hz</th>\n",
       "      <th>3,500000Hz</th>\n",
       "      <th>4,000000Hz</th>\n",
       "      <th>4,500000Hz</th>\n",
       "      <th>...</th>\n",
       "      <th>20,500000Hz</th>\n",
       "      <th>21,000000Hz</th>\n",
       "      <th>21,500000Hz</th>\n",
       "      <th>22,000000Hz</th>\n",
       "      <th>22,500000Hz</th>\n",
       "      <th>23,000000Hz</th>\n",
       "      <th>23,500000Hz</th>\n",
       "      <th>24,000000Hz</th>\n",
       "      <th>24,500000Hz</th>\n",
       "      <th>25,000000Hz</th>\n",
       "    </tr>\n",
       "  </thead>\n",
       "  <tbody>\n",
       "    <tr>\n",
       "      <th>0</th>\n",
       "      <td>3.130000e-06</td>\n",
       "      <td>0.000005</td>\n",
       "      <td>1.320000e-05</td>\n",
       "      <td>6.020000e-07</td>\n",
       "      <td>0.000002</td>\n",
       "      <td>0.000016</td>\n",
       "      <td>0.000040</td>\n",
       "      <td>0.000055</td>\n",
       "      <td>0.000024</td>\n",
       "      <td>0.000020</td>\n",
       "      <td>...</td>\n",
       "      <td>6.510000e-07</td>\n",
       "      <td>1.120000e-06</td>\n",
       "      <td>0.000001</td>\n",
       "      <td>9.570000e-07</td>\n",
       "      <td>1.700000e-06</td>\n",
       "      <td>2.960000e-06</td>\n",
       "      <td>4.200000e-07</td>\n",
       "      <td>1.430000e-06</td>\n",
       "      <td>2.384000e-06</td>\n",
       "      <td>2.920000e-06</td>\n",
       "    </tr>\n",
       "    <tr>\n",
       "      <th>1</th>\n",
       "      <td>7.020000e-07</td>\n",
       "      <td>0.000029</td>\n",
       "      <td>1.247000e-04</td>\n",
       "      <td>2.721670e-04</td>\n",
       "      <td>0.000194</td>\n",
       "      <td>0.000139</td>\n",
       "      <td>0.000193</td>\n",
       "      <td>0.000182</td>\n",
       "      <td>0.000037</td>\n",
       "      <td>0.000094</td>\n",
       "      <td>...</td>\n",
       "      <td>2.590000e-06</td>\n",
       "      <td>6.020000e-08</td>\n",
       "      <td>0.000002</td>\n",
       "      <td>4.930000e-07</td>\n",
       "      <td>2.160000e-06</td>\n",
       "      <td>7.140000e-07</td>\n",
       "      <td>2.320000e-07</td>\n",
       "      <td>1.940000e-06</td>\n",
       "      <td>2.850000e-07</td>\n",
       "      <td>8.560000e-07</td>\n",
       "    </tr>\n",
       "    <tr>\n",
       "      <th>2</th>\n",
       "      <td>7.590000e-08</td>\n",
       "      <td>0.000008</td>\n",
       "      <td>1.410000e-05</td>\n",
       "      <td>7.620000e-06</td>\n",
       "      <td>0.000013</td>\n",
       "      <td>0.000070</td>\n",
       "      <td>0.000089</td>\n",
       "      <td>0.000231</td>\n",
       "      <td>0.000090</td>\n",
       "      <td>0.000022</td>\n",
       "      <td>...</td>\n",
       "      <td>4.090000e-06</td>\n",
       "      <td>3.390000e-06</td>\n",
       "      <td>0.000003</td>\n",
       "      <td>1.480000e-07</td>\n",
       "      <td>6.070000e-07</td>\n",
       "      <td>1.750000e-06</td>\n",
       "      <td>1.760000e-06</td>\n",
       "      <td>6.770000e-07</td>\n",
       "      <td>1.009000e-06</td>\n",
       "      <td>2.610000e-07</td>\n",
       "    </tr>\n",
       "    <tr>\n",
       "      <th>3</th>\n",
       "      <td>4.020000e-05</td>\n",
       "      <td>0.000016</td>\n",
       "      <td>6.410000e-07</td>\n",
       "      <td>8.740000e-07</td>\n",
       "      <td>0.000016</td>\n",
       "      <td>0.000016</td>\n",
       "      <td>0.000022</td>\n",
       "      <td>0.000060</td>\n",
       "      <td>0.000031</td>\n",
       "      <td>0.000031</td>\n",
       "      <td>...</td>\n",
       "      <td>1.540000e-06</td>\n",
       "      <td>6.010000e-07</td>\n",
       "      <td>0.000002</td>\n",
       "      <td>3.580000e-06</td>\n",
       "      <td>1.400000e-06</td>\n",
       "      <td>3.990000e-06</td>\n",
       "      <td>7.427000e-06</td>\n",
       "      <td>7.290000e-07</td>\n",
       "      <td>1.070000e-06</td>\n",
       "      <td>9.720000e-06</td>\n",
       "    </tr>\n",
       "    <tr>\n",
       "      <th>4</th>\n",
       "      <td>1.890000e-08</td>\n",
       "      <td>0.000005</td>\n",
       "      <td>2.110000e-06</td>\n",
       "      <td>1.590000e-05</td>\n",
       "      <td>0.000024</td>\n",
       "      <td>0.000008</td>\n",
       "      <td>0.000050</td>\n",
       "      <td>0.000107</td>\n",
       "      <td>0.000023</td>\n",
       "      <td>0.000051</td>\n",
       "      <td>...</td>\n",
       "      <td>9.320000e-06</td>\n",
       "      <td>7.920000e-06</td>\n",
       "      <td>0.000007</td>\n",
       "      <td>7.500000e-06</td>\n",
       "      <td>9.370000e-07</td>\n",
       "      <td>2.770000e-07</td>\n",
       "      <td>7.520000e-07</td>\n",
       "      <td>9.570000e-07</td>\n",
       "      <td>9.650000e-07</td>\n",
       "      <td>1.430000e-06</td>\n",
       "    </tr>\n",
       "  </tbody>\n",
       "</table>\n",
       "<p>5 rows × 51 columns</p>\n",
       "</div>"
      ],
      "text/plain": [
       "     0,000000Hz  0,500000Hz    1,000000Hz    1,500000Hz  2,000000Hz  \\\n",
       "0  3.130000e-06    0.000005  1.320000e-05  6.020000e-07    0.000002   \n",
       "1  7.020000e-07    0.000029  1.247000e-04  2.721670e-04    0.000194   \n",
       "2  7.590000e-08    0.000008  1.410000e-05  7.620000e-06    0.000013   \n",
       "3  4.020000e-05    0.000016  6.410000e-07  8.740000e-07    0.000016   \n",
       "4  1.890000e-08    0.000005  2.110000e-06  1.590000e-05    0.000024   \n",
       "\n",
       "   2,500000Hz  3,000000Hz  3,500000Hz  4,000000Hz  4,500000Hz  ...  \\\n",
       "0    0.000016    0.000040    0.000055    0.000024    0.000020  ...   \n",
       "1    0.000139    0.000193    0.000182    0.000037    0.000094  ...   \n",
       "2    0.000070    0.000089    0.000231    0.000090    0.000022  ...   \n",
       "3    0.000016    0.000022    0.000060    0.000031    0.000031  ...   \n",
       "4    0.000008    0.000050    0.000107    0.000023    0.000051  ...   \n",
       "\n",
       "    20,500000Hz   21,000000Hz  21,500000Hz   22,000000Hz   22,500000Hz  \\\n",
       "0  6.510000e-07  1.120000e-06     0.000001  9.570000e-07  1.700000e-06   \n",
       "1  2.590000e-06  6.020000e-08     0.000002  4.930000e-07  2.160000e-06   \n",
       "2  4.090000e-06  3.390000e-06     0.000003  1.480000e-07  6.070000e-07   \n",
       "3  1.540000e-06  6.010000e-07     0.000002  3.580000e-06  1.400000e-06   \n",
       "4  9.320000e-06  7.920000e-06     0.000007  7.500000e-06  9.370000e-07   \n",
       "\n",
       "    23,000000Hz   23,500000Hz   24,000000Hz   24,500000Hz   25,000000Hz  \n",
       "0  2.960000e-06  4.200000e-07  1.430000e-06  2.384000e-06  2.920000e-06  \n",
       "1  7.140000e-07  2.320000e-07  1.940000e-06  2.850000e-07  8.560000e-07  \n",
       "2  1.750000e-06  1.760000e-06  6.770000e-07  1.009000e-06  2.610000e-07  \n",
       "3  3.990000e-06  7.427000e-06  7.290000e-07  1.070000e-06  9.720000e-06  \n",
       "4  2.770000e-07  7.520000e-07  9.570000e-07  9.650000e-07  1.430000e-06  \n",
       "\n",
       "[5 rows x 51 columns]"
      ]
     },
     "execution_count": 213,
     "metadata": {},
     "output_type": "execute_result"
    }
   ],
   "source": [
    "df_3 = df_2.iloc[0:, 4:]\n",
    "df_3.head()"
   ]
  },
  {
   "cell_type": "markdown",
   "metadata": {},
   "source": [
    "## Rewrite in numpy array:"
   ]
  },
  {
   "cell_type": "code",
   "execution_count": 183,
   "metadata": {},
   "outputs": [
    {
     "data": {
      "text/plain": [
       "(51, 497)"
      ]
     },
     "execution_count": 183,
     "metadata": {},
     "output_type": "execute_result"
    }
   ],
   "source": [
    "df_num2 = df_3.to_numpy()\n",
    "df_num2.T.shape\n"
   ]
  },
  {
   "cell_type": "markdown",
   "metadata": {},
   "source": [
    "## Heatmap of data"
   ]
  },
  {
   "cell_type": "code",
   "execution_count": 314,
   "metadata": {},
   "outputs": [
    {
     "data": {
      "text/plain": [
       "<matplotlib.colorbar.Colorbar at 0x7febc77b4350>"
      ]
     },
     "execution_count": 314,
     "metadata": {},
     "output_type": "execute_result"
    },
    {
     "data": {
      "image/png": "[encoded data removed]",
      "text/plain": [
       "<Figure size 432x288 with 2 Axes>"
      ]
     },
     "metadata": {
      "needs_background": "light"
     },
     "output_type": "display_data"
    }
   ],
   "source": [
    "color_map = plt.imshow(df_num2.T, interpolation=\"nearest\", aspect='auto')\n",
    "plt.gca().invert_yaxis()\n",
    "\n",
    "plt.xlabel('Time')\n",
    "plt.ylabel('Frequency in Hz')\n",
    "plt.title('REM sleep in mice')\n",
    "\n",
    "color_map.set_cmap('hot')\n",
    "plt.colorbar()\n"
   ]
  },
  {
   "cell_type": "markdown",
   "metadata": {},
   "source": [
    "## -> Result: Power of EEG mainly at Frequency 6-8 Hz, which is typical for REM-sleep theta rhythm. \n",
    "    "
   ]
  },
  {
   "cell_type": "markdown",
   "metadata": {},
   "source": [
    "# line plot of data"
   ]
  },
  {
   "cell_type": "code",
   "execution_count": 131,
   "metadata": {},
   "outputs": [
    {
     "data": {
      "text/html": [
       "<div>\n",
       "<style scoped>\n",
       "    .dataframe tbody tr th:only-of-type {\n",
       "        vertical-align: middle;\n",
       "    }\n",
       "\n",
       "    .dataframe tbody tr th {\n",
       "        vertical-align: top;\n",
       "    }\n",
       "\n",
       "    .dataframe thead th {\n",
       "        text-align: right;\n",
       "    }\n",
       "</style>\n",
       "<table border=\"1\" class=\"dataframe\">\n",
       "  <thead>\n",
       "    <tr style=\"text-align: right;\">\n",
       "      <th></th>\n",
       "      <th>7,000000Hz</th>\n",
       "      <th>8,000000Hz</th>\n",
       "      <th>9,000000Hz</th>\n",
       "      <th>10,000000Hz</th>\n",
       "      <th>11,000000Hz</th>\n",
       "      <th>12,000000Hz</th>\n",
       "    </tr>\n",
       "  </thead>\n",
       "  <tbody>\n",
       "    <tr>\n",
       "      <th>1</th>\n",
       "      <td>1.590000e-05</td>\n",
       "      <td>6.090000e-06</td>\n",
       "      <td>0.000009</td>\n",
       "      <td>0.000031</td>\n",
       "      <td>4.820000e-05</td>\n",
       "      <td>0.000019</td>\n",
       "    </tr>\n",
       "    <tr>\n",
       "      <th>2</th>\n",
       "      <td>1.547450e-04</td>\n",
       "      <td>1.420000e-05</td>\n",
       "      <td>0.000018</td>\n",
       "      <td>0.000082</td>\n",
       "      <td>6.180000e-07</td>\n",
       "      <td>0.000006</td>\n",
       "    </tr>\n",
       "    <tr>\n",
       "      <th>3</th>\n",
       "      <td>7.970000e-05</td>\n",
       "      <td>5.312300e-05</td>\n",
       "      <td>0.000002</td>\n",
       "      <td>0.000003</td>\n",
       "      <td>4.180000e-05</td>\n",
       "      <td>0.000029</td>\n",
       "    </tr>\n",
       "    <tr>\n",
       "      <th>4</th>\n",
       "      <td>4.900000e-07</td>\n",
       "      <td>6.850000e-07</td>\n",
       "      <td>0.000018</td>\n",
       "      <td>0.000009</td>\n",
       "      <td>2.780000e-06</td>\n",
       "      <td>0.000002</td>\n",
       "    </tr>\n",
       "    <tr>\n",
       "      <th>5</th>\n",
       "      <td>1.130000e-05</td>\n",
       "      <td>1.800000e-05</td>\n",
       "      <td>0.000003</td>\n",
       "      <td>0.000092</td>\n",
       "      <td>9.960000e-06</td>\n",
       "      <td>0.000002</td>\n",
       "    </tr>\n",
       "  </tbody>\n",
       "</table>\n",
       "</div>"
      ],
      "text/plain": [
       "     7,000000Hz    8,000000Hz  9,000000Hz  10,000000Hz   11,000000Hz  \\\n",
       "1  1.590000e-05  6.090000e-06    0.000009     0.000031  4.820000e-05   \n",
       "2  1.547450e-04  1.420000e-05    0.000018     0.000082  6.180000e-07   \n",
       "3  7.970000e-05  5.312300e-05    0.000002     0.000003  4.180000e-05   \n",
       "4  4.900000e-07  6.850000e-07    0.000018     0.000009  2.780000e-06   \n",
       "5  1.130000e-05  1.800000e-05    0.000003     0.000092  9.960000e-06   \n",
       "\n",
       "   12,000000Hz  \n",
       "1     0.000019  \n",
       "2     0.000006  \n",
       "3     0.000029  \n",
       "4     0.000002  \n",
       "5     0.000002  "
      ]
     },
     "execution_count": 131,
     "metadata": {},
     "output_type": "execute_result"
    }
   ],
   "source": [
    "df_4 = df_2.iloc[1:, range(18,30,2)]\n",
    "df_4.head()"
   ]
  },
  {
   "cell_type": "code",
   "execution_count": 186,
   "metadata": {},
   "outputs": [
    {
     "data": {
      "text/plain": [
       "(497, 6)"
      ]
     },
     "execution_count": 186,
     "metadata": {},
     "output_type": "execute_result"
    }
   ],
   "source": [
    "df_num4 = df_4.to_numpy()\n",
    "df_num4.shape"
   ]
  },
  {
   "cell_type": "code",
   "execution_count": 191,
   "metadata": {},
   "outputs": [
    {
     "data": {
      "text/plain": [
       "[<matplotlib.lines.Line2D at 0x7febdce3fe50>,\n",
       " <matplotlib.lines.Line2D at 0x7febbe4d2450>,\n",
       " <matplotlib.lines.Line2D at 0x7febbe85f050>,\n",
       " <matplotlib.lines.Line2D at 0x7febbe4d2d10>,\n",
       " <matplotlib.lines.Line2D at 0x7febbf345a10>,\n",
       " <matplotlib.lines.Line2D at 0x7febbe4d2050>]"
      ]
     },
     "execution_count": 191,
     "metadata": {},
     "output_type": "execute_result"
    },
    {
     "data": {
      "image/png": "[encoded data removed]",
      "text/plain": [
       "<Figure size 432x288 with 1 Axes>"
      ]
     },
     "metadata": {
      "needs_background": "light"
     },
     "output_type": "display_data"
    }
   ],
   "source": [
    "fig, ax = plt.subplots()\n",
    "ax.plot(df_4)\n",
    "ax.grid()\n",
    "ax.semilogy(df_4)"
   ]
  },
  {
   "cell_type": "markdown",
   "metadata": {},
   "source": [
    "## indistinct plot, because of too many timepoints and too many frequencies plotted in one graph - better only one Timepoint with all frequencies in one plot!"
   ]
  },
  {
   "cell_type": "code",
   "execution_count": 194,
   "metadata": {},
   "outputs": [
    {
     "data": {
      "text/plain": [
       "<bound method NDFrame.head of 0,000000Hz        7.02e-07\n",
       "0,500000Hz        2.85e-05\n",
       "1,000000Hz       0.0001247\n",
       "1,500000Hz     0.000272167\n",
       "2,000000Hz     0.000194119\n",
       "2,500000Hz     0.000138808\n",
       "3,000000Hz     0.000192908\n",
       "3,500000Hz     0.000182328\n",
       "4,000000Hz        3.75e-05\n",
       "4,500000Hz        9.38e-05\n",
       "5,000000Hz     0.000124025\n",
       "5,500000Hz     0.000105551\n",
       "6,000000Hz     0.000221338\n",
       "6,500000Hz        9.53e-05\n",
       "7,000000Hz        1.59e-05\n",
       "7,500000Hz        2.43e-06\n",
       "8,000000Hz        6.09e-06\n",
       "8,500000Hz        3.25e-06\n",
       "9,000000Hz        9.39e-06\n",
       "9,500000Hz        2.87e-05\n",
       "10,000000Hz       3.08e-05\n",
       "10,500000Hz       7.54e-05\n",
       "11,000000Hz       4.82e-05\n",
       "11,500000Hz       2.54e-06\n",
       "12,000000Hz       1.95e-05\n",
       "12,500000Hz        1.5e-05\n",
       "13,000000Hz       1.74e-05\n",
       "13,500000Hz     1.0185e-05\n",
       "14,000000Hz          1e-05\n",
       "14,500000Hz       1.95e-05\n",
       "15,000000Hz       1.11e-05\n",
       "15,500000Hz       6.74e-06\n",
       "16,000000Hz       5.57e-06\n",
       "16,500000Hz       4.62e-06\n",
       "17,000000Hz       7.22e-06\n",
       "17,500000Hz       2.27e-06\n",
       "18,000000Hz       1.11e-06\n",
       "18,500000Hz       1.64e-06\n",
       "19,000000Hz       4.07e-06\n",
       "19,500000Hz       8.33e-06\n",
       "20,000000Hz       4.43e-06\n",
       "20,500000Hz       2.59e-06\n",
       "21,000000Hz       6.02e-08\n",
       "21,500000Hz       2.29e-06\n",
       "22,000000Hz       4.93e-07\n",
       "22,500000Hz       2.16e-06\n",
       "23,000000Hz       7.14e-07\n",
       "23,500000Hz       2.32e-07\n",
       "24,000000Hz       1.94e-06\n",
       "24,500000Hz       2.85e-07\n",
       "25,000000Hz       8.56e-07\n",
       "Name: 1, dtype: object>"
      ]
     },
     "execution_count": 194,
     "metadata": {},
     "output_type": "execute_result"
    }
   ],
   "source": [
    "df_5 = df_2.iloc[1,4:]\n",
    "df_5.head"
   ]
  },
  {
   "cell_type": "code",
   "execution_count": 205,
   "metadata": {},
   "outputs": [
    {
     "data": {
      "text/plain": [
       "([<matplotlib.axis.XTick at 0x7febc2608c90>,\n",
       "  <matplotlib.axis.XTick at 0x7febc27739d0>,\n",
       "  <matplotlib.axis.XTick at 0x7febc2716350>],\n",
       " [Text(0, 0, ''), Text(0, 0, ''), Text(0, 0, '')])"
      ]
     },
     "execution_count": 205,
     "metadata": {},
     "output_type": "execute_result"
    },
    {
     "data": {
      "image/png": "[encoded data removed]",
      "text/plain": [
       "<Figure size 432x288 with 1 Axes>"
      ]
     },
     "metadata": {
      "needs_background": "light"
     },
     "output_type": "display_data"
    }
   ],
   "source": [
    "fig, ax = plt.subplots()\n",
    "ax.plot(df_5)\n",
    "ax.grid()\n",
    "ax.semilogy(df_5)\n",
    "plt.xticks(np.arange(0,50,step=20))"
   ]
  },
  {
   "cell_type": "markdown",
   "metadata": {},
   "source": [
    "## -> At this timepoint (2019-04-05 08:56:00) the Power of Frequency is high at low Frequency (0-7 Hz) - it is not typical for REM-sleep"
   ]
  },
  {
   "cell_type": "markdown",
   "metadata": {},
   "source": [
    "# 3D Plot"
   ]
  },
  {
   "cell_type": "code",
   "execution_count": 141,
   "metadata": {},
   "outputs": [],
   "source": [
    "from mpl_toolkits.mplot3d import Axes3D"
   ]
  },
  {
   "cell_type": "code",
   "execution_count": 230,
   "metadata": {},
   "outputs": [
    {
     "data": {
      "text/html": [
       "<div>\n",
       "<style scoped>\n",
       "    .dataframe tbody tr th:only-of-type {\n",
       "        vertical-align: middle;\n",
       "    }\n",
       "\n",
       "    .dataframe tbody tr th {\n",
       "        vertical-align: top;\n",
       "    }\n",
       "\n",
       "    .dataframe thead th {\n",
       "        text-align: right;\n",
       "    }\n",
       "</style>\n",
       "<table border=\"1\" class=\"dataframe\">\n",
       "  <thead>\n",
       "    <tr style=\"text-align: right;\">\n",
       "      <th></th>\n",
       "      <th>0,000000Hz</th>\n",
       "      <th>0,500000Hz</th>\n",
       "      <th>1,000000Hz</th>\n",
       "      <th>1,500000Hz</th>\n",
       "      <th>2,000000Hz</th>\n",
       "      <th>2,500000Hz</th>\n",
       "      <th>3,000000Hz</th>\n",
       "      <th>3,500000Hz</th>\n",
       "      <th>4,000000Hz</th>\n",
       "      <th>4,500000Hz</th>\n",
       "      <th>...</th>\n",
       "      <th>20,500000Hz</th>\n",
       "      <th>21,000000Hz</th>\n",
       "      <th>21,500000Hz</th>\n",
       "      <th>22,000000Hz</th>\n",
       "      <th>22,500000Hz</th>\n",
       "      <th>23,000000Hz</th>\n",
       "      <th>23,500000Hz</th>\n",
       "      <th>24,000000Hz</th>\n",
       "      <th>24,500000Hz</th>\n",
       "      <th>25,000000Hz</th>\n",
       "    </tr>\n",
       "  </thead>\n",
       "  <tbody>\n",
       "    <tr>\n",
       "      <th>0</th>\n",
       "      <td>3.130000e-06</td>\n",
       "      <td>0.000005</td>\n",
       "      <td>1.320000e-05</td>\n",
       "      <td>6.020000e-07</td>\n",
       "      <td>0.000002</td>\n",
       "      <td>0.000016</td>\n",
       "      <td>0.000040</td>\n",
       "      <td>0.000055</td>\n",
       "      <td>0.000024</td>\n",
       "      <td>0.000020</td>\n",
       "      <td>...</td>\n",
       "      <td>6.510000e-07</td>\n",
       "      <td>1.120000e-06</td>\n",
       "      <td>0.000001</td>\n",
       "      <td>9.570000e-07</td>\n",
       "      <td>1.700000e-06</td>\n",
       "      <td>2.960000e-06</td>\n",
       "      <td>4.200000e-07</td>\n",
       "      <td>1.430000e-06</td>\n",
       "      <td>2.384000e-06</td>\n",
       "      <td>2.920000e-06</td>\n",
       "    </tr>\n",
       "    <tr>\n",
       "      <th>1</th>\n",
       "      <td>7.020000e-07</td>\n",
       "      <td>0.000029</td>\n",
       "      <td>1.247000e-04</td>\n",
       "      <td>2.721670e-04</td>\n",
       "      <td>0.000194</td>\n",
       "      <td>0.000139</td>\n",
       "      <td>0.000193</td>\n",
       "      <td>0.000182</td>\n",
       "      <td>0.000037</td>\n",
       "      <td>0.000094</td>\n",
       "      <td>...</td>\n",
       "      <td>2.590000e-06</td>\n",
       "      <td>6.020000e-08</td>\n",
       "      <td>0.000002</td>\n",
       "      <td>4.930000e-07</td>\n",
       "      <td>2.160000e-06</td>\n",
       "      <td>7.140000e-07</td>\n",
       "      <td>2.320000e-07</td>\n",
       "      <td>1.940000e-06</td>\n",
       "      <td>2.850000e-07</td>\n",
       "      <td>8.560000e-07</td>\n",
       "    </tr>\n",
       "    <tr>\n",
       "      <th>2</th>\n",
       "      <td>7.590000e-08</td>\n",
       "      <td>0.000008</td>\n",
       "      <td>1.410000e-05</td>\n",
       "      <td>7.620000e-06</td>\n",
       "      <td>0.000013</td>\n",
       "      <td>0.000070</td>\n",
       "      <td>0.000089</td>\n",
       "      <td>0.000231</td>\n",
       "      <td>0.000090</td>\n",
       "      <td>0.000022</td>\n",
       "      <td>...</td>\n",
       "      <td>4.090000e-06</td>\n",
       "      <td>3.390000e-06</td>\n",
       "      <td>0.000003</td>\n",
       "      <td>1.480000e-07</td>\n",
       "      <td>6.070000e-07</td>\n",
       "      <td>1.750000e-06</td>\n",
       "      <td>1.760000e-06</td>\n",
       "      <td>6.770000e-07</td>\n",
       "      <td>1.009000e-06</td>\n",
       "      <td>2.610000e-07</td>\n",
       "    </tr>\n",
       "    <tr>\n",
       "      <th>3</th>\n",
       "      <td>4.020000e-05</td>\n",
       "      <td>0.000016</td>\n",
       "      <td>6.410000e-07</td>\n",
       "      <td>8.740000e-07</td>\n",
       "      <td>0.000016</td>\n",
       "      <td>0.000016</td>\n",
       "      <td>0.000022</td>\n",
       "      <td>0.000060</td>\n",
       "      <td>0.000031</td>\n",
       "      <td>0.000031</td>\n",
       "      <td>...</td>\n",
       "      <td>1.540000e-06</td>\n",
       "      <td>6.010000e-07</td>\n",
       "      <td>0.000002</td>\n",
       "      <td>3.580000e-06</td>\n",
       "      <td>1.400000e-06</td>\n",
       "      <td>3.990000e-06</td>\n",
       "      <td>7.427000e-06</td>\n",
       "      <td>7.290000e-07</td>\n",
       "      <td>1.070000e-06</td>\n",
       "      <td>9.720000e-06</td>\n",
       "    </tr>\n",
       "    <tr>\n",
       "      <th>4</th>\n",
       "      <td>1.890000e-08</td>\n",
       "      <td>0.000005</td>\n",
       "      <td>2.110000e-06</td>\n",
       "      <td>1.590000e-05</td>\n",
       "      <td>0.000024</td>\n",
       "      <td>0.000008</td>\n",
       "      <td>0.000050</td>\n",
       "      <td>0.000107</td>\n",
       "      <td>0.000023</td>\n",
       "      <td>0.000051</td>\n",
       "      <td>...</td>\n",
       "      <td>9.320000e-06</td>\n",
       "      <td>7.920000e-06</td>\n",
       "      <td>0.000007</td>\n",
       "      <td>7.500000e-06</td>\n",
       "      <td>9.370000e-07</td>\n",
       "      <td>2.770000e-07</td>\n",
       "      <td>7.520000e-07</td>\n",
       "      <td>9.570000e-07</td>\n",
       "      <td>9.650000e-07</td>\n",
       "      <td>1.430000e-06</td>\n",
       "    </tr>\n",
       "  </tbody>\n",
       "</table>\n",
       "<p>5 rows × 51 columns</p>\n",
       "</div>"
      ],
      "text/plain": [
       "     0,000000Hz  0,500000Hz    1,000000Hz    1,500000Hz  2,000000Hz  \\\n",
       "0  3.130000e-06    0.000005  1.320000e-05  6.020000e-07    0.000002   \n",
       "1  7.020000e-07    0.000029  1.247000e-04  2.721670e-04    0.000194   \n",
       "2  7.590000e-08    0.000008  1.410000e-05  7.620000e-06    0.000013   \n",
       "3  4.020000e-05    0.000016  6.410000e-07  8.740000e-07    0.000016   \n",
       "4  1.890000e-08    0.000005  2.110000e-06  1.590000e-05    0.000024   \n",
       "\n",
       "   2,500000Hz  3,000000Hz  3,500000Hz  4,000000Hz  4,500000Hz  ...  \\\n",
       "0    0.000016    0.000040    0.000055    0.000024    0.000020  ...   \n",
       "1    0.000139    0.000193    0.000182    0.000037    0.000094  ...   \n",
       "2    0.000070    0.000089    0.000231    0.000090    0.000022  ...   \n",
       "3    0.000016    0.000022    0.000060    0.000031    0.000031  ...   \n",
       "4    0.000008    0.000050    0.000107    0.000023    0.000051  ...   \n",
       "\n",
       "    20,500000Hz   21,000000Hz  21,500000Hz   22,000000Hz   22,500000Hz  \\\n",
       "0  6.510000e-07  1.120000e-06     0.000001  9.570000e-07  1.700000e-06   \n",
       "1  2.590000e-06  6.020000e-08     0.000002  4.930000e-07  2.160000e-06   \n",
       "2  4.090000e-06  3.390000e-06     0.000003  1.480000e-07  6.070000e-07   \n",
       "3  1.540000e-06  6.010000e-07     0.000002  3.580000e-06  1.400000e-06   \n",
       "4  9.320000e-06  7.920000e-06     0.000007  7.500000e-06  9.370000e-07   \n",
       "\n",
       "    23,000000Hz   23,500000Hz   24,000000Hz   24,500000Hz   25,000000Hz  \n",
       "0  2.960000e-06  4.200000e-07  1.430000e-06  2.384000e-06  2.920000e-06  \n",
       "1  7.140000e-07  2.320000e-07  1.940000e-06  2.850000e-07  8.560000e-07  \n",
       "2  1.750000e-06  1.760000e-06  6.770000e-07  1.009000e-06  2.610000e-07  \n",
       "3  3.990000e-06  7.427000e-06  7.290000e-07  1.070000e-06  9.720000e-06  \n",
       "4  2.770000e-07  7.520000e-07  9.570000e-07  9.650000e-07  1.430000e-06  \n",
       "\n",
       "[5 rows x 51 columns]"
      ]
     },
     "execution_count": 230,
     "metadata": {},
     "output_type": "execute_result"
    }
   ],
   "source": [
    "df_3.head()"
   ]
  },
  {
   "cell_type": "code",
   "execution_count": 277,
   "metadata": {},
   "outputs": [
    {
     "data": {
      "text/plain": [
       "array([  1.,   2.,   3.,   4.,   5.,   6.,   7.,   8.,   9.,  10.,  11.,\n",
       "        12.,  13.,  14.,  15.,  16.,  17.,  18.,  19.,  20.,  21.,  22.,\n",
       "        23.,  24.,  25.,  26.,  27.,  28.,  29.,  30.,  31.,  32.,  33.,\n",
       "        34.,  35.,  36.,  37.,  38.,  39.,  40.,  41.,  42.,  43.,  44.,\n",
       "        45.,  46.,  47.,  48.,  49.,  50.,  51.,  52.,  53.,  54.,  55.,\n",
       "        56.,  57.,  58.,  59.,  60.,  61.,  62.,  63.,  64.,  65.,  66.,\n",
       "        67.,  68.,  69.,  70.,  71.,  72.,  73.,  74.,  75.,  76.,  77.,\n",
       "        78.,  79.,  80.,  81.,  82.,  83.,  84.,  85.,  86.,  87.,  88.,\n",
       "        89.,  90.,  91.,  92.,  93.,  94.,  95.,  96.,  97.,  98.,  99.,\n",
       "       100., 101., 102., 103., 104., 105., 106., 107., 108., 109., 110.,\n",
       "       111., 112., 113., 114., 115., 116., 117., 118., 119., 120., 121.,\n",
       "       122., 123., 124., 125., 126., 127., 128., 129., 130., 131., 132.,\n",
       "       133., 134., 135., 136., 137., 138., 139., 140., 141., 142., 143.,\n",
       "       144., 145., 146., 147., 148., 149., 150., 151., 152., 153., 154.,\n",
       "       155., 156., 157., 158., 159., 160., 161., 162., 163., 164., 165.,\n",
       "       166., 167., 168., 169., 170., 171., 172., 173., 174., 175., 176.,\n",
       "       177., 178., 179., 180., 181., 182., 183., 184., 185., 186., 187.,\n",
       "       188., 189., 190., 191., 192., 193., 194., 195., 196., 197., 198.,\n",
       "       199., 200., 201., 202., 203., 204., 205., 206., 207., 208., 209.,\n",
       "       210., 211., 212., 213., 214., 215., 216., 217., 218., 219., 220.,\n",
       "       221., 222., 223., 224., 225., 226., 227., 228., 229., 230., 231.,\n",
       "       232., 233., 234., 235., 236., 237., 238., 239., 240., 241., 242.,\n",
       "       243., 244., 245., 246., 247., 248., 249., 250., 251., 252., 253.,\n",
       "       254., 255., 256., 257., 258., 259., 260., 261., 262., 263., 264.,\n",
       "       265., 266., 267., 268., 269., 270., 271., 272., 273., 274., 275.,\n",
       "       276., 277., 278., 279., 280., 281., 282., 283., 284., 285., 286.,\n",
       "       287., 288., 289., 290., 291., 292., 293., 294., 295., 296., 297.,\n",
       "       298., 299., 300., 301., 302., 303., 304., 305., 306., 307., 308.,\n",
       "       309., 310., 311., 312., 313., 314., 315., 316., 317., 318., 319.,\n",
       "       320., 321., 322., 323., 324., 325., 326., 327., 328., 329., 330.,\n",
       "       331., 332., 333., 334., 335., 336., 337., 338., 339., 340., 341.,\n",
       "       342., 343., 344., 345., 346., 347., 348., 349., 350., 351., 352.,\n",
       "       353., 354., 355., 356., 357., 358., 359., 360., 361., 362., 363.,\n",
       "       364., 365., 366., 367., 368., 369., 370., 371., 372., 373., 374.,\n",
       "       375., 376., 377., 378., 379., 380., 381., 382., 383., 384., 385.,\n",
       "       386., 387., 388., 389., 390., 391., 392., 393., 394., 395., 396.,\n",
       "       397., 398., 399., 400., 401., 402., 403., 404., 405., 406., 407.,\n",
       "       408., 409., 410., 411., 412., 413., 414., 415., 416., 417., 418.,\n",
       "       419., 420., 421., 422., 423., 424., 425., 426., 427., 428., 429.,\n",
       "       430., 431., 432., 433., 434., 435., 436., 437., 438., 439., 440.,\n",
       "       441., 442., 443., 444., 445., 446., 447., 448., 449., 450., 451.,\n",
       "       452., 453., 454., 455., 456., 457., 458., 459., 460., 461., 462.,\n",
       "       463., 464., 465., 466., 467., 468., 469., 470., 471., 472., 473.,\n",
       "       474., 475., 476., 477., 478., 479., 480., 481., 482., 483., 484.,\n",
       "       485., 486., 487., 488., 489., 490., 491., 492., 493., 494., 495.,\n",
       "       496., 497., 498.])"
      ]
     },
     "execution_count": 277,
     "metadata": {},
     "output_type": "execute_result"
    }
   ],
   "source": [
    "time = np.linspace(1,df_3.shape[0],(df_3.shape[0]))\n",
    "time"
   ]
  },
  {
   "cell_type": "code",
   "execution_count": 290,
   "metadata": {},
   "outputs": [
    {
     "data": {
      "text/plain": [
       "array([ 0. ,  0.5,  1. ,  1.5,  2. ,  2.5,  3. ,  3.5,  4. ,  4.5,  5. ,\n",
       "        5.5,  6. ,  6.5,  7. ,  7.5,  8. ,  8.5,  9. ,  9.5, 10. , 10.5,\n",
       "       11. , 11.5, 12. , 12.5, 13. , 13.5, 14. , 14.5, 15. , 15.5, 16. ,\n",
       "       16.5, 17. , 17.5, 18. , 18.5, 19. , 19.5, 20. , 20.5, 21. , 21.5,\n",
       "       22. , 22.5, 23. , 23.5, 24. , 24.5, 25. ])"
      ]
     },
     "execution_count": 290,
     "metadata": {},
     "output_type": "execute_result"
    }
   ],
   "source": [
    "freq = np.arange(0,25.5,0.5)\n",
    "freq"
   ]
  },
  {
   "cell_type": "code",
   "execution_count": 294,
   "metadata": {},
   "outputs": [
    {
     "data": {
      "text/plain": [
       "(498, 51)"
      ]
     },
     "execution_count": 294,
     "metadata": {},
     "output_type": "execute_result"
    }
   ],
   "source": [
    "df_3.shape"
   ]
  },
  {
   "cell_type": "code",
   "execution_count": 295,
   "metadata": {},
   "outputs": [
    {
     "data": {
      "text/plain": [
       "(51, 498)"
      ]
     },
     "execution_count": 295,
     "metadata": {},
     "output_type": "execute_result"
    }
   ],
   "source": [
    "\n",
    "Y.shape\n"
   ]
  },
  {
   "cell_type": "code",
   "execution_count": 292,
   "metadata": {},
   "outputs": [
    {
     "data": {
      "text/plain": [
       "(51, 498)"
      ]
     },
     "execution_count": 292,
     "metadata": {},
     "output_type": "execute_result"
    }
   ],
   "source": [
    "X.shape"
   ]
  },
  {
   "cell_type": "code",
   "execution_count": 307,
   "metadata": {},
   "outputs": [
    {
     "data": {
      "image/png": "[encoded data removed]",
      "text/plain": [
       "<Figure size 1296x720 with 1 Axes>"
      ]
     },
     "metadata": {
      "needs_background": "light"
     },
     "output_type": "display_data"
    }
   ],
   "source": [
    "fig = plt.figure(figsize=(18,10))\n",
    "ax = plt.axes(projection='3d')\n",
    "X = time\n",
    "Y = freq\n",
    "X, Y = np.meshgrid(X, Y)\n",
    "Z = df_3.T\n",
    "\n",
    "# Plot the surface.\n",
    "surf = ax.plot_surface(X, Y, Z, cmap=cm.coolwarm,linewidth=0, antialiased=False)\n",
    "plt.show()"
   ]
  },
  {
   "cell_type": "markdown",
   "metadata": {},
   "source": [
    "## -> As in the Heatmap you can see the highest power at 6-10 Hz, which is typical for theta rhythm and the corresponding REM-sleep."
   ]
  },
  {
   "cell_type": "markdown",
   "metadata": {},
   "source": [
    "# The End"
   ]
  }
 ],
 "metadata": {
  "kernelspec": {
   "display_name": "Python 3",
   "language": "python",
   "name": "python3"
  },
  "language_info": {
   "codemirror_mode": {
    "name": "ipython",
    "version": 3
   },
   "file_extension": ".py",
   "mimetype": "text/x-python",
   "name": "python",
   "nbconvert_exporter": "python",
   "pygments_lexer": "ipython3",
   "version": "3.7.9"
  }
 },
 "nbformat": 4,
 "nbformat_minor": 4
}
